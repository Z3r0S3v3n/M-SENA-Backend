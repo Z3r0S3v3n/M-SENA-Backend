{
 "cells": [
  {
   "cell_type": "code",
   "execution_count": 29,
   "metadata": {},
   "outputs": [],
   "source": [
    "import json\n",
    "import os\n",
    "import pickle\n",
    "import pandas as pd"
   ]
  },
  {
   "cell_type": "code",
   "execution_count": 53,
   "metadata": {},
   "outputs": [],
   "source": [
    "tmp = {\"1\": 3, \"2\": 4}"
   ]
  },
  {
   "cell_type": "code",
   "execution_count": 58,
   "metadata": {},
   "outputs": [
    {
     "data": {
      "text/plain": [
       "{'1': 3, '2': 4}"
      ]
     },
     "execution_count": 58,
     "metadata": {},
     "output_type": "execute_result"
    }
   ],
   "source": [
    "{k:v for k, v in tmp.items()}"
   ]
  },
  {
   "cell_type": "code",
   "execution_count": 50,
   "metadata": {},
   "outputs": [],
   "source": [
    "server = 'http://166.111.138.149:4000'\n",
    "path = 'home/iyuge2/Project/M-SENA/Datasets'"
   ]
  },
  {
   "cell_type": "code",
   "execution_count": 51,
   "metadata": {},
   "outputs": [
    {
     "data": {
      "text/plain": [
       "'http://166.111.138.149:4000/home/iyuge2/Project/M-SENA/Datasets'"
      ]
     },
     "execution_count": 51,
     "metadata": {},
     "output_type": "execute_result"
    }
   ],
   "source": [
    "os.path.join(server, path)"
   ]
  },
  {
   "cell_type": "code",
   "execution_count": 32,
   "metadata": {},
   "outputs": [],
   "source": [
    "with open(os.path.join('/home/iyuge2/Project/M-SENA/Datasets', 'config.json'), 'r') as fp:\n",
    "    dataset_config = json.load(fp)"
   ]
  },
  {
   "cell_type": "code",
   "execution_count": 2,
   "metadata": {},
   "outputs": [],
   "source": [
    "import pandas as pd\n",
    "from tqdm import tqdm"
   ]
  },
  {
   "cell_type": "code",
   "execution_count": 36,
   "metadata": {},
   "outputs": [],
   "source": [
    "df = pd.read_csv('/home/iyuge2/Project/M-SENA/Datasets/DemoDataset/label.csv', dtype={\"video_id\": \"str\", \"clip_id\": \"str\", \"text\": \"str\"})"
   ]
  },
  {
   "cell_type": "code",
   "execution_count": 43,
   "metadata": {},
   "outputs": [],
   "source": [
    "df = df.drop(['label_M'], axis=1)"
   ]
  },
  {
   "cell_type": "code",
   "execution_count": 46,
   "metadata": {},
   "outputs": [
    {
     "data": {
      "text/html": [
       "<div>\n",
       "<style scoped>\n",
       "    .dataframe tbody tr th:only-of-type {\n",
       "        vertical-align: middle;\n",
       "    }\n",
       "\n",
       "    .dataframe tbody tr th {\n",
       "        vertical-align: top;\n",
       "    }\n",
       "\n",
       "    .dataframe thead th {\n",
       "        text-align: right;\n",
       "    }\n",
       "</style>\n",
       "<table border=\"1\" class=\"dataframe\">\n",
       "  <thead>\n",
       "    <tr style=\"text-align: right;\">\n",
       "      <th></th>\n",
       "      <th>video_id</th>\n",
       "      <th>clip_id</th>\n",
       "      <th>text</th>\n",
       "      <th>label</th>\n",
       "      <th>annotation</th>\n",
       "      <th>mode</th>\n",
       "      <th>label_by</th>\n",
       "    </tr>\n",
       "  </thead>\n",
       "  <tbody>\n",
       "    <tr>\n",
       "      <th>0</th>\n",
       "      <td>video_0001</td>\n",
       "      <td>0001</td>\n",
       "      <td>我不想嫁给李茶</td>\n",
       "      <td>1</td>\n",
       "      <td>Negative</td>\n",
       "      <td>train</td>\n",
       "      <td>1</td>\n",
       "    </tr>\n",
       "    <tr>\n",
       "      <th>1</th>\n",
       "      <td>video_0001</td>\n",
       "      <td>0002</td>\n",
       "      <td>你这是嫁入豪门啊！</td>\n",
       "      <td>3</td>\n",
       "      <td>Positive</td>\n",
       "      <td>train</td>\n",
       "      <td>0</td>\n",
       "    </tr>\n",
       "    <tr>\n",
       "      <th>2</th>\n",
       "      <td>video_0001</td>\n",
       "      <td>0003</td>\n",
       "      <td>我不想嫁入什么豪门，我们不就是豪门吗？</td>\n",
       "      <td>1</td>\n",
       "      <td>Negative</td>\n",
       "      <td>test</td>\n",
       "      <td>0</td>\n",
       "    </tr>\n",
       "  </tbody>\n",
       "</table>\n",
       "</div>"
      ],
      "text/plain": [
       "     video_id clip_id                 text  label annotation   mode  label_by\n",
       "0  video_0001    0001              我不想嫁给李茶      1   Negative  train         1\n",
       "1  video_0001    0002            你这是嫁入豪门啊！      3   Positive  train         0\n",
       "2  video_0001    0003  我不想嫁入什么豪门，我们不就是豪门吗？      1   Negative   test         0"
      ]
     },
     "execution_count": 46,
     "metadata": {},
     "output_type": "execute_result"
    }
   ],
   "source": [
    "df.head(3)"
   ]
  },
  {
   "cell_type": "code",
   "execution_count": 11,
   "metadata": {},
   "outputs": [],
   "source": [
    "annotations = list(df['annotation'])"
   ]
  },
  {
   "cell_type": "code",
   "execution_count": 13,
   "metadata": {},
   "outputs": [],
   "source": [
    "annotation_dict = {\"Negative\": 0, \"Weakly Negative\": 1, \"Neutral\": 2, \"Positive\": 3, \"Weakly Positive\": 4}"
   ]
  },
  {
   "cell_type": "code",
   "execution_count": 14,
   "metadata": {},
   "outputs": [],
   "source": [
    "labels = [annotation_dict[k] for k in annotations]"
   ]
  },
  {
   "cell_type": "code",
   "execution_count": 47,
   "metadata": {},
   "outputs": [],
   "source": [
    "df.to_csv('/home/iyuge2/Project/M-SENA/Datasets/DemoDataset/label.csv', index=None)"
   ]
  },
  {
   "cell_type": "code",
   "execution_count": 19,
   "metadata": {},
   "outputs": [],
   "source": [
    "df = pd.read_csv('/home/iyuge2/Project/M-SENA/Datasets/DemoDataset/label.csv', dtype={\"clip_id\": str})"
   ]
  },
  {
   "cell_type": "code",
   "execution_count": 20,
   "metadata": {},
   "outputs": [
    {
     "data": {
      "text/plain": [
       "0    1000\n",
       "3     905\n",
       "1     189\n",
       "2     187\n",
       "Name: label_by, dtype: int64"
      ]
     },
     "execution_count": 20,
     "metadata": {},
     "output_type": "execute_result"
    }
   ],
   "source": [
    "df['label_by'].value_counts()"
   ]
  },
  {
   "cell_type": "code",
   "execution_count": 10,
   "metadata": {},
   "outputs": [],
   "source": [
    "annotations = list(df['annotation'])"
   ]
  },
  {
   "cell_type": "code",
   "execution_count": 12,
   "metadata": {},
   "outputs": [],
   "source": [
    "new_labels = [annotation_dict[v] for v in annotations]"
   ]
  },
  {
   "cell_type": "code",
   "execution_count": 14,
   "metadata": {},
   "outputs": [],
   "source": [
    "df['label'] = new_labels"
   ]
  },
  {
   "cell_type": "code",
   "execution_count": 21,
   "metadata": {},
   "outputs": [
    {
     "name": "stderr",
     "output_type": "stream",
     "text": [
      "100%|██████████| 2281/2281 [00:00<00:00, 4665.34it/s]\n"
     ]
    }
   ],
   "source": [
    "for i in tqdm(range(len(df))):\n",
    "    clip_id = df.loc[i, 'clip_id']\n",
    "    clip_id = str(clip_id).zfill(4)\n",
    "    df.loc[i, 'clip_id'] = clip_id"
   ]
  },
  {
   "cell_type": "code",
   "execution_count": 16,
   "metadata": {},
   "outputs": [],
   "source": [
    "df.to_csv('/home/iyuge2/Project/M-SENA/Datasets/DemoDataset/label.csv', index=None, encoding='utf-8')"
   ]
  },
  {
   "cell_type": "code",
   "execution_count": 23,
   "metadata": {},
   "outputs": [],
   "source": [
    "import pickle"
   ]
  },
  {
   "cell_type": "code",
   "execution_count": 41,
   "metadata": {},
   "outputs": [],
   "source": [
    "with open('/home/iyuge2/Project/M-SENA/Datasets/SIMS/Processed/features/unaligned_39.pkl', 'rb') as fp:\n",
    "    data = pickle.load(fp)"
   ]
  },
  {
   "cell_type": "code",
   "execution_count": 42,
   "metadata": {},
   "outputs": [
    {
     "data": {
      "text/plain": [
       "dict_keys(['feature_T', 'feature_A', 'feature_V', 'label_T', 'label_A', 'label_V', 'label_M', 'ids', 'raw_text', 'text_bert', 'audio_lengths', 'vision_lengths'])"
      ]
     },
     "execution_count": 42,
     "metadata": {},
     "output_type": "execute_result"
    }
   ],
   "source": [
    "data['train'].keys()"
   ]
  },
  {
   "cell_type": "markdown",
   "metadata": {},
   "source": [
    "five classes{[-1.0, -0.7], (-0.7, -0.1], (-0.1, 0.1], (0.1, 0.7], (0.7, 1.0]"
   ]
  },
  {
   "cell_type": "code",
   "execution_count": 43,
   "metadata": {},
   "outputs": [
    {
     "data": {
      "text/plain": [
       "array([1., 4., 4., 3., 0., 2., 3., 0., 0., 0.])"
      ]
     },
     "execution_count": 43,
     "metadata": {},
     "output_type": "execute_result"
    }
   ],
   "source": [
    "data['train']['label_T'][:10]"
   ]
  },
  {
   "cell_type": "code",
   "execution_count": 44,
   "metadata": {},
   "outputs": [],
   "source": [
    "for mode in ['train', 'valid', 'test']:\n",
    "    for item in ['label_T', 'label_A', 'label_V', 'label_M']:\n",
    "        labels = data[mode][item]\n",
    "        for i in range(len(labels)):\n",
    "            if labels[i] <= 1:\n",
    "                labels[i] = 0\n",
    "            elif labels[i] == 2:\n",
    "                labels[i] = 1\n",
    "            else:\n",
    "                labels[i] = 2\n",
    "        data[mode][item] = labels"
   ]
  },
  {
   "cell_type": "code",
   "execution_count": 46,
   "metadata": {},
   "outputs": [],
   "source": [
    "with open('/home/iyuge2/Project/M-SENA/Datasets/SIMS/Processed/features/unaligned_39.pkl', 'wb') as fp:\n",
    "    pickle.dump(data, fp)"
   ]
  },
  {
   "cell_type": "code",
   "execution_count": 18,
   "metadata": {},
   "outputs": [],
   "source": [
    "for mode in ['train', 'valid', 'test']:\n",
    "    ids = data[mode]['ids']\n",
    "    for i, cur_id in enumerate(ids):\n",
    "        ids[i] = cur_id[:-5] + '-' + cur_id[-4:]\n",
    "    data[mode]['ids'] = ids"
   ]
  },
  {
   "cell_type": "code",
   "execution_count": 19,
   "metadata": {},
   "outputs": [],
   "source": [
    "with open('/home/iyuge2/Project/M-SENA/Datasets/SIMS/Processed/features/unaligned_39.pkl', 'wb') as fp:\n",
    "    pickle.dump(data, fp)"
   ]
  },
  {
   "cell_type": "code",
   "execution_count": 37,
   "metadata": {},
   "outputs": [],
   "source": [
    "new_data = {}\n",
    "for mode in ['train', 'valid', 'test']:\n",
    "        cur_ids = data[mode]['ids']\n",
    "        for i in range(len(cur_ids)):\n",
    "            ids = cur_ids[i].split('_')\n",
    "            video_id = '_'.join(ids[:-1])\n",
    "            clip_id = ids[-1]\n",
    "            new_k = video_id + '-' + clip_id\n",
    "            tmp = {}\n",
    "            for k in ['feature_T', 'feature_A', 'feature_V', 'label_M', 'raw_text', 'text_bert', 'audio_lengths', 'vision_lengths']:\n",
    "                tmp[k] = data[mode][k][i]\n",
    "            new_data[new_k] = tmp"
   ]
  },
  {
   "cell_type": "code",
   "execution_count": 38,
   "metadata": {},
   "outputs": [],
   "source": [
    "with open('/home/iyuge2/Project/M-SENA/Datasets/DemoDataset/features/unaligned_39.pkl', 'wb') as fp:\n",
    "    pickle.dump(new_data, fp)"
   ]
  },
  {
   "cell_type": "code",
   "execution_count": 59,
   "metadata": {},
   "outputs": [],
   "source": [
    "df = pd.read_csv('/home/iyuge2/Project/M-SENA/Datasets/SIMS/label.csv', dtype={\"video_id\": \"str\", \"clip_id\": \"str\", \"text\": \"str\"})"
   ]
  },
  {
   "cell_type": "code",
   "execution_count": 66,
   "metadata": {},
   "outputs": [],
   "source": [
    "annotation_dict = {\n",
    "                \"Negative\": 0,\n",
    "                \"Neutral\": 1,\n",
    "                \"Positive\": 2\n",
    "            }\n",
    "tmp_dict = {\n",
    "                \"Weakly Negative\": \"Negative\",\n",
    "                \"Weakly Positive\": \"Positive\",\n",
    "                \"Positive\": \"Positive\",\n",
    "                \"Neutral\": \"Neutral\",\n",
    "                \"Negative\": \"Negative\"\n",
    "            }"
   ]
  },
  {
   "cell_type": "code",
   "execution_count": 67,
   "metadata": {},
   "outputs": [],
   "source": [
    "annotations = list(df['annotation'])\n",
    "new_annotations = [tmp_dict[v] for v in annotations]"
   ]
  },
  {
   "cell_type": "code",
   "execution_count": 69,
   "metadata": {},
   "outputs": [],
   "source": [
    "new_labels = [annotation_dict[v] for v in new_annotations]"
   ]
  },
  {
   "cell_type": "code",
   "execution_count": 70,
   "metadata": {},
   "outputs": [],
   "source": [
    "df['label'] = new_labels\n",
    "df['annotation'] = new_annotations"
   ]
  },
  {
   "cell_type": "code",
   "execution_count": 71,
   "metadata": {},
   "outputs": [
    {
     "data": {
      "text/html": [
       "<div>\n",
       "<style scoped>\n",
       "    .dataframe tbody tr th:only-of-type {\n",
       "        vertical-align: middle;\n",
       "    }\n",
       "\n",
       "    .dataframe tbody tr th {\n",
       "        vertical-align: top;\n",
       "    }\n",
       "\n",
       "    .dataframe thead th {\n",
       "        text-align: right;\n",
       "    }\n",
       "</style>\n",
       "<table border=\"1\" class=\"dataframe\">\n",
       "  <thead>\n",
       "    <tr style=\"text-align: right;\">\n",
       "      <th></th>\n",
       "      <th>video_id</th>\n",
       "      <th>clip_id</th>\n",
       "      <th>text</th>\n",
       "      <th>label</th>\n",
       "      <th>annotation</th>\n",
       "      <th>mode</th>\n",
       "      <th>label_by</th>\n",
       "    </tr>\n",
       "  </thead>\n",
       "  <tbody>\n",
       "    <tr>\n",
       "      <th>0</th>\n",
       "      <td>video_0001</td>\n",
       "      <td>0001</td>\n",
       "      <td>我不想嫁给李茶</td>\n",
       "      <td>0</td>\n",
       "      <td>Negative</td>\n",
       "      <td>train</td>\n",
       "      <td>0</td>\n",
       "    </tr>\n",
       "    <tr>\n",
       "      <th>1</th>\n",
       "      <td>video_0001</td>\n",
       "      <td>0002</td>\n",
       "      <td>你这是嫁入豪门啊！</td>\n",
       "      <td>2</td>\n",
       "      <td>Positive</td>\n",
       "      <td>train</td>\n",
       "      <td>0</td>\n",
       "    </tr>\n",
       "    <tr>\n",
       "      <th>2</th>\n",
       "      <td>video_0001</td>\n",
       "      <td>0003</td>\n",
       "      <td>我不想嫁入什么豪门，我们不就是豪门吗？</td>\n",
       "      <td>0</td>\n",
       "      <td>Negative</td>\n",
       "      <td>test</td>\n",
       "      <td>0</td>\n",
       "    </tr>\n",
       "    <tr>\n",
       "      <th>3</th>\n",
       "      <td>video_0001</td>\n",
       "      <td>0004</td>\n",
       "      <td>有那么明显吗？</td>\n",
       "      <td>0</td>\n",
       "      <td>Negative</td>\n",
       "      <td>train</td>\n",
       "      <td>0</td>\n",
       "    </tr>\n",
       "    <tr>\n",
       "      <th>4</th>\n",
       "      <td>video_0001</td>\n",
       "      <td>0005</td>\n",
       "      <td>我在这消费这么多钱，我低血糖吃块糖还不行了</td>\n",
       "      <td>0</td>\n",
       "      <td>Negative</td>\n",
       "      <td>train</td>\n",
       "      <td>0</td>\n",
       "    </tr>\n",
       "    <tr>\n",
       "      <th>5</th>\n",
       "      <td>video_0001</td>\n",
       "      <td>0006</td>\n",
       "      <td>够了，每次都是这一套，我不想再听了。</td>\n",
       "      <td>0</td>\n",
       "      <td>Negative</td>\n",
       "      <td>test</td>\n",
       "      <td>0</td>\n",
       "    </tr>\n",
       "    <tr>\n",
       "      <th>6</th>\n",
       "      <td>video_0001</td>\n",
       "      <td>0007</td>\n",
       "      <td>我刚才信号不好，现在可以了，怎么样，妈，公司给我安排的海景别墅楼。</td>\n",
       "      <td>2</td>\n",
       "      <td>Positive</td>\n",
       "      <td>train</td>\n",
       "      <td>0</td>\n",
       "    </tr>\n",
       "    <tr>\n",
       "      <th>7</th>\n",
       "      <td>video_0001</td>\n",
       "      <td>0008</td>\n",
       "      <td>我刚才是一害怕我就跟王安迪撒了个谎</td>\n",
       "      <td>0</td>\n",
       "      <td>Negative</td>\n",
       "      <td>train</td>\n",
       "      <td>0</td>\n",
       "    </tr>\n",
       "    <tr>\n",
       "      <th>8</th>\n",
       "      <td>video_0001</td>\n",
       "      <td>0009</td>\n",
       "      <td>说到演讲啊，我不禁想起了我在我的母校。</td>\n",
       "      <td>2</td>\n",
       "      <td>Positive</td>\n",
       "      <td>test</td>\n",
       "      <td>0</td>\n",
       "    </tr>\n",
       "    <tr>\n",
       "      <th>9</th>\n",
       "      <td>video_0001</td>\n",
       "      <td>0010</td>\n",
       "      <td>经理经理，别忘了我那五十万和副科长。</td>\n",
       "      <td>2</td>\n",
       "      <td>Positive</td>\n",
       "      <td>train</td>\n",
       "      <td>0</td>\n",
       "    </tr>\n",
       "  </tbody>\n",
       "</table>\n",
       "</div>"
      ],
      "text/plain": [
       "     video_id clip_id                               text  label annotation  \\\n",
       "0  video_0001    0001                            我不想嫁给李茶      0   Negative   \n",
       "1  video_0001    0002                          你这是嫁入豪门啊！      2   Positive   \n",
       "2  video_0001    0003                我不想嫁入什么豪门，我们不就是豪门吗？      0   Negative   \n",
       "3  video_0001    0004                            有那么明显吗？      0   Negative   \n",
       "4  video_0001    0005              我在这消费这么多钱，我低血糖吃块糖还不行了      0   Negative   \n",
       "5  video_0001    0006                 够了，每次都是这一套，我不想再听了。      0   Negative   \n",
       "6  video_0001    0007  我刚才信号不好，现在可以了，怎么样，妈，公司给我安排的海景别墅楼。      2   Positive   \n",
       "7  video_0001    0008                  我刚才是一害怕我就跟王安迪撒了个谎      0   Negative   \n",
       "8  video_0001    0009                说到演讲啊，我不禁想起了我在我的母校。      2   Positive   \n",
       "9  video_0001    0010                 经理经理，别忘了我那五十万和副科长。      2   Positive   \n",
       "\n",
       "    mode  label_by  \n",
       "0  train         0  \n",
       "1  train         0  \n",
       "2   test         0  \n",
       "3  train         0  \n",
       "4  train         0  \n",
       "5   test         0  \n",
       "6  train         0  \n",
       "7  train         0  \n",
       "8   test         0  \n",
       "9  train         0  "
      ]
     },
     "execution_count": 71,
     "metadata": {},
     "output_type": "execute_result"
    }
   ],
   "source": [
    "df.head(10)"
   ]
  },
  {
   "cell_type": "code",
   "execution_count": 37,
   "metadata": {},
   "outputs": [],
   "source": [
    "annotations = list(df['annotation'])\n",
    "labels = [annotation_dict[v] for v in annotations]"
   ]
  },
  {
   "cell_type": "code",
   "execution_count": 39,
   "metadata": {},
   "outputs": [],
   "source": [
    "df['label'] = labels"
   ]
  },
  {
   "cell_type": "code",
   "execution_count": 72,
   "metadata": {},
   "outputs": [],
   "source": [
    "df.to_csv('/home/iyuge2/Project/M-SENA/Datasets/SIMS/label.csv', index=None)"
   ]
  },
  {
   "cell_type": "code",
   "execution_count": 73,
   "metadata": {},
   "outputs": [],
   "source": [
    "import time"
   ]
  },
  {
   "cell_type": "code",
   "execution_count": 74,
   "metadata": {},
   "outputs": [],
   "source": [
    "t = time.time()"
   ]
  },
  {
   "cell_type": "code",
   "execution_count": 80,
   "metadata": {},
   "outputs": [
    {
     "name": "stdout",
     "output_type": "stream",
     "text": [
      "1609853739306\n"
     ]
    }
   ],
   "source": [
    "print(str(round(t * 1000)))"
   ]
  },
  {
   "cell_type": "code",
   "execution_count": 81,
   "metadata": {},
   "outputs": [],
   "source": [
    "import pickle"
   ]
  },
  {
   "cell_type": "code",
   "execution_count": 82,
   "metadata": {},
   "outputs": [],
   "source": [
    "with open('/home/iyuge2/Project/M-SENA/M-SENA-Backend/M-Codes/results/LF_DNN-SIMS-12.pkl', 'rb') as fp:\n",
    "    features = pickle.load(fp)"
   ]
  },
  {
   "cell_type": "code",
   "execution_count": 84,
   "metadata": {},
   "outputs": [
    {
     "data": {
      "text/plain": [
       "dict_keys(['train', 'valid', 'test'])"
      ]
     },
     "execution_count": 84,
     "metadata": {},
     "output_type": "execute_result"
    }
   ],
   "source": [
    "features.keys()"
   ]
  },
  {
   "cell_type": "code",
   "execution_count": 86,
   "metadata": {},
   "outputs": [
    {
     "data": {
      "text/plain": [
       "dict_keys(['Feature_T', 'Feature_A', 'Feature_V', 'Feature_M'])"
      ]
     },
     "execution_count": 86,
     "metadata": {},
     "output_type": "execute_result"
    }
   ],
   "source": [
    "features['train'].keys()"
   ]
  },
  {
   "cell_type": "code",
   "execution_count": 89,
   "metadata": {},
   "outputs": [],
   "source": [
    "import numpy as np\n",
    "a = np.ones([3,5])"
   ]
  },
  {
   "cell_type": "code",
   "execution_count": 91,
   "metadata": {},
   "outputs": [
    {
     "data": {
      "text/plain": [
       "[[1.0, 1.0, 1.0, 1.0, 1.0],\n",
       " [1.0, 1.0, 1.0, 1.0, 1.0],\n",
       " [1.0, 1.0, 1.0, 1.0, 1.0]]"
      ]
     },
     "execution_count": 91,
     "metadata": {},
     "output_type": "execute_result"
    }
   ],
   "source": [
    "a.tolist()"
   ]
  },
  {
   "cell_type": "code",
   "execution_count": 97,
   "metadata": {},
   "outputs": [],
   "source": [
    "a = np.array([i for i in range(18)])"
   ]
  },
  {
   "cell_type": "code",
   "execution_count": 103,
   "metadata": {},
   "outputs": [],
   "source": [
    "ai = np.where(a > 4)[0].tolist()"
   ]
  },
  {
   "cell_type": "code",
   "execution_count": 104,
   "metadata": {},
   "outputs": [
    {
     "data": {
      "text/plain": [
       "array([ 5,  6,  7,  8,  9, 10, 11, 12, 13, 14, 15, 16, 17])"
      ]
     },
     "execution_count": 104,
     "metadata": {},
     "output_type": "execute_result"
    }
   ],
   "source": [
    "a[ai]"
   ]
  },
  {
   "cell_type": "code",
   "execution_count": 96,
   "metadata": {},
   "outputs": [
    {
     "data": {
      "text/plain": [
       "array([[ 6,  7,  8,  9, 10, 11],\n",
       "       [12, 13, 14, 15, 16, 17]])"
      ]
     },
     "execution_count": 96,
     "metadata": {},
     "output_type": "execute_result"
    }
   ],
   "source": [
    "a[[1,2]]"
   ]
  },
  {
   "cell_type": "code",
   "execution_count": null,
   "metadata": {},
   "outputs": [],
   "source": []
  }
 ],
 "metadata": {
  "kernelspec": {
   "display_name": "sena",
   "language": "python",
   "name": "sena"
  },
  "language_info": {
   "codemirror_mode": {
    "name": "ipython",
    "version": 3
   },
   "file_extension": ".py",
   "mimetype": "text/x-python",
   "name": "python",
   "nbconvert_exporter": "python",
   "pygments_lexer": "ipython3",
   "version": "3.8.5"
  }
 },
 "nbformat": 4,
 "nbformat_minor": 2
}
