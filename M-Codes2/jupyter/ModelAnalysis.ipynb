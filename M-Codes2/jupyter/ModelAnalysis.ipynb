{
 "cells": [
  {
   "cell_type": "code",
   "execution_count": null,
   "metadata": {},
   "outputs": [],
   "source": [
    "import os\n",
    "import random\n",
    "import argparse\n",
    "import numpy as np\n",
    "import pandas as pd\n",
    "from glob import glob\n",
    "from tqdm import tqdm\n",
    "from sklearn.metrics import accuracy_score, f1_score, confusion_matrix\n",
    "\n",
    "import torch\n",
    "import torch.nn as nn\n",
    "from torch import optim\n",
    "from torch.optim.lr_scheduler import ReduceLROnPlateau\n",
    "\n",
    "# from config_run import *\n",
    "# from config_debug import *\n",
    "# from models.AIOM import AIOM\n",
    "# from load_data import MMDataLoader"
   ]
  },
  {
   "cell_type": "code",
   "execution_count": null,
   "metadata": {},
   "outputs": [],
   "source": [
    "seed = 1\n",
    "args = {'modelName': 'tfn', 'datasetName': 'msazh', 'num_workers': 0, 'modality': 'M'}\n",
    "save_path = 'asserts' + '/' + args['modelName'] + '-%d' % seed + '.pdf'\n",
    "config = Config(args)\n",
    "args = config.get_config()\n",
    "device = torch.device('cuda: 1')\n",
    "# load model\n",
    "model_save_pathes = glob(os.path.join('/home/iyuge2/Project/MSA-ZH/models_seeds', '%d-' % seed + args.modelName + '-msazh-' + args.modality + '-*.pth'))\n",
    "model = Terminator(args)\n",
    "assert len(model_save_pathes) == 1\n",
    "model.load_state_dict(torch.load(model_save_pathes[0]))\n",
    "model.to(device)\n",
    "model.eval()\n",
    "# load data\n",
    "dataloader = MMDataLoader(args)"
   ]
  },
  {
   "cell_type": "code",
   "execution_count": null,
   "metadata": {},
   "outputs": [],
   "source": [
    "feature_ts, feature_as, feature_vs, feature_fs = [], [], [], []\n",
    "y_pred = []\n",
    "y_true = []\n",
    "with torch.no_grad():\n",
    "    for mode in ['test']:\n",
    "        with tqdm(dataloader[mode]) as td:\n",
    "            for batch_data in td:\n",
    "                vision = batch_data['vision'].to(device)\n",
    "                audio = batch_data['audio'].to(device)\n",
    "                text = batch_data['text'].to(device)\n",
    "                labels_M = batch_data['labels_M'].to(device).view(-1, 1)\n",
    "                labels_T = batch_data['labels_T'].to(device).view(-1, 1)\n",
    "                labels_A = batch_data['labels_A'].to(device).view(-1, 1)\n",
    "                labels_V = batch_data['labels_V'].to(device).view(-1, 1)\n",
    "\n",
    "                outputs = model(text, audio, vision)\n",
    "                # save features and results\n",
    "                feature_ts.append(outputs['Feature_t'].cpu().detach())\n",
    "                feature_as.append(outputs['Feature_a'].cpu().detach())\n",
    "                feature_vs.append(outputs['Feature_v'].cpu().detach())\n",
    "                feature_fs.append(outputs['Feature_f'].cpu().detach())\n",
    "                y_pred.append(outputs['M'].cpu())\n",
    "                y_true.append(eval('labels_M').cpu())"
   ]
  },
  {
   "cell_type": "code",
   "execution_count": null,
   "metadata": {},
   "outputs": [],
   "source": [
    "feature_T = torch.cat(feature_ts, dim=0).cpu().detach().numpy()\n",
    "feature_A = torch.cat(feature_as, dim=0).cpu().detach().numpy()\n",
    "feature_V = torch.cat(feature_vs, dim=0).cpu().detach().numpy()\n",
    "feature_F = torch.cat(feature_fs, dim=0).cpu().detach().numpy()\n",
    "y_pred = torch.cat(y_pred, dim=0).view(-1).cpu().detach().numpy()\n",
    "y_pred[y_pred > 0] = 1\n",
    "y_pred[y_pred <= 0] = 0\n",
    "\n",
    "y_true = torch.cat(y_true, dim=0).view(-1).cpu().detach().numpy()\n",
    "y_true[y_true > 0] = 1\n",
    "y_true[y_true <= 0] = 0\n",
    "sum(y_pred == 1)"
   ]
  },
  {
   "cell_type": "code",
   "execution_count": null,
   "metadata": {},
   "outputs": [],
   "source": [
    "print(feature_T.shape)\n",
    "print(feature_A.shape)\n",
    "print(feature_V.shape)"
   ]
  },
  {
   "cell_type": "code",
   "execution_count": null,
   "metadata": {},
   "outputs": [],
   "source": [
    "from sklearn.decomposition import PCA\n",
    "pca=PCA(n_components=2, whiten=True)\n",
    "\n",
    "result_T = pca.fit_transform(feature_T)\n",
    "result_A = pca.fit_transform(feature_A)\n",
    "result_V = pca.fit_transform(feature_V)\n",
    "\n",
    "result_T = result_T.reshape(1, -1)\n",
    "result_A = result_A.reshape(1, -1)\n",
    "result_V = result_V.reshape(1, -1)\n",
    "results = np.concatenate([result_T, result_A, result_V], axis=0)"
   ]
  },
  {
   "cell_type": "code",
   "execution_count": null,
   "metadata": {},
   "outputs": [],
   "source": [
    "fdiff = np.corrcoef(results)[:3, :3]\n",
    "fdiff"
   ]
  },
  {
   "cell_type": "code",
   "execution_count": null,
   "metadata": {},
   "outputs": [],
   "source": [
    "import matplotlib.pyplot as plt\n",
    "from sklearn.manifold import TSNE\n",
    "plt.rcParams['font.sans-serif'] = ['Times New Roman']\n",
    "tsne = TSNE(n_components=2, init='pca', random_state=0)\n",
    "result_T = tsne.fit_transform(feature_T)\n",
    "result_A = tsne.fit_transform(feature_A)\n",
    "result_V = tsne.fit_transform(feature_V)\n",
    "att_xs = [result_T, result_A, result_V]\n",
    "colors = ['r', 'g', 'b']\n",
    "labels = ['T', 'A', 'V']\n",
    "for i in range(len(colors)): \n",
    "    plt.scatter(att_xs[i][:,0:1], att_xs[i][:,1:2], label=labels[i], c = colors[i])\n",
    "    plt.legend(loc='upper right')\n",
    "plt.savefig(save_path, dpi=600, format='pdf')"
   ]
  }
 ],
 "metadata": {
  "file_extension": ".py",
  "kernelspec": {
   "display_name": "Python 3",
   "language": "python",
   "name": "python3"
  },
  "language_info": {
   "codemirror_mode": {
    "name": "ipython",
    "version": 3
   },
   "file_extension": ".py",
   "mimetype": "text/x-python",
   "name": "python",
   "nbconvert_exporter": "python",
   "pygments_lexer": "ipython3",
   "version": "3.6.4"
  },
  "mimetype": "text/x-python",
  "name": "python",
  "npconvert_exporter": "python",
  "pygments_lexer": "ipython3",
  "version": 3
 },
 "nbformat": 4,
 "nbformat_minor": 4
}
